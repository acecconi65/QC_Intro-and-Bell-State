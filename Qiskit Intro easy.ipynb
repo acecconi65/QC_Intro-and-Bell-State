{
 "cells": [
  {
   "cell_type": "code",
   "execution_count": null,
   "id": "56916a84",
   "metadata": {},
   "outputs": [],
   "source": [
    "# The very first quantistic circuit with Quiskit\n",
    "# https://quantum-computing.ibm.com/lab/docs/iql/first-circuit\n",
    "\n",
    "# Quantum circuits are the foundation of quantum computing. They are made up of quantum gates. \n",
    "# When you run a quantum circuit, the gates manipulate qubits in the quantum computer.\n",
    "\n",
    "# To code any quantum circuit in Quantum Lab, you follow three high-level steps:\n",
    "\n",
    "# Build: Design a quantum circuit that represents the problem you are considering.\n",
    "\n",
    "# Execute: Run a circuits on a backend, either a system or a simulator:\n",
    "# https://quantum-computing.ibm.com/lab/docs/iql/manage/simulator/index\n",
    "\n",
    "# Analyze: Calculate summary statistics and visualize the results of your circuit jobs."
   ]
  },
  {
   "cell_type": "code",
   "execution_count": 6,
   "id": "73451780",
   "metadata": {},
   "outputs": [
    {
     "data": {
      "text/plain": [
       "<qiskit.circuit.instructionset.InstructionSet at 0x1076dab80>"
      ]
     },
     "execution_count": 6,
     "metadata": {},
     "output_type": "execute_result"
    }
   ],
   "source": [
    "from qiskit import QuantumCircuit, QuantumRegister, ClassicalRegister, execute, Aer, BasicAer,IBMQ\n",
    "\n",
    "# Build\n",
    "#------\n",
    "\n",
    "# Create a Quantum Circuit acting on the q register\n",
    "circuit = QuantumCircuit(2, 2)\n",
    "\n",
    "# Add a H gate on qubit 0\n",
    "circuit.h(0)\n",
    "\n",
    "# Add a CX (CNOT) gate on control qubit 0 and target qubit 1\n",
    "circuit.cx(0, 1)\n",
    "\n",
    "# Map the quantum measurement to the classical bits\n",
    "circuit.measure([0,1], [0,1])\n",
    "\n",
    "# END"
   ]
  },
  {
   "cell_type": "code",
   "execution_count": 7,
   "id": "76a3fd9d",
   "metadata": {},
   "outputs": [
    {
     "name": "stdout",
     "output_type": "stream",
     "text": [
      "\n",
      "Total count for 00 and 11 are: {'00': 495, '11': 505}\n"
     ]
    }
   ],
   "source": [
    "# Execute\n",
    "#--------\n",
    "\n",
    "# Use Aer's qasm_simulator\n",
    "simulator = Aer.get_backend('qasm_simulator')\n",
    "\n",
    "# Execute the circuit on the qasm simulator\n",
    "job = execute(circuit, simulator, shots=1000)\n",
    "\n",
    "# Grab results from the job\n",
    "result = job.result()\n",
    "\n",
    "# Return counts\n",
    "counts = result.get_counts(circuit)\n",
    "print(\"\\nTotal count for 00 and 11 are:\",counts)\n",
    "\n",
    "# END"
   ]
  },
  {
   "cell_type": "code",
   "execution_count": 8,
   "id": "1d62602e",
   "metadata": {},
   "outputs": [
    {
     "ename": "ModuleNotFoundError",
     "evalue": "No module named 'ibm_quantum_widgets'",
     "output_type": "error",
     "traceback": [
      "\u001b[0;31m---------------------------------------------------------------------------\u001b[0m",
      "\u001b[0;31mModuleNotFoundError\u001b[0m                       Traceback (most recent call last)",
      "\u001b[0;32m<ipython-input-8-b3c1c789a599>\u001b[0m in \u001b[0;36m<module>\u001b[0;34m\u001b[0m\n\u001b[1;32m      3\u001b[0m \u001b[0;34m\u001b[0m\u001b[0m\n\u001b[1;32m      4\u001b[0m \u001b[0;31m# Import draw_circuit, then use it to draw the circuit\u001b[0m\u001b[0;34m\u001b[0m\u001b[0;34m\u001b[0m\u001b[0;34m\u001b[0m\u001b[0m\n\u001b[0;32m----> 5\u001b[0;31m \u001b[0;32mfrom\u001b[0m \u001b[0mibm_quantum_widgets\u001b[0m \u001b[0;32mimport\u001b[0m \u001b[0mdraw_circuit\u001b[0m\u001b[0;34m\u001b[0m\u001b[0;34m\u001b[0m\u001b[0m\n\u001b[0m\u001b[1;32m      6\u001b[0m \u001b[0mdraw_circuit\u001b[0m\u001b[0;34m(\u001b[0m\u001b[0mcircuit\u001b[0m\u001b[0;34m)\u001b[0m\u001b[0;34m\u001b[0m\u001b[0;34m\u001b[0m\u001b[0m\n\u001b[1;32m      7\u001b[0m \u001b[0;34m\u001b[0m\u001b[0m\n",
      "\u001b[0;31mModuleNotFoundError\u001b[0m: No module named 'ibm_quantum_widgets'"
     ]
    }
   ],
   "source": [
    "# Visualize\n",
    "#----------\n",
    "\n",
    "#from qiskit.visualization import *\n",
    "\n",
    "# Import draw_circuit, then use it to draw the circuit\n",
    "from ibm_quantum_widgets import draw_circuit\n",
    "draw_circuit(circuit)\n",
    "\n",
    "# Analyze\n",
    "#--------\n",
    "\n",
    "# Plot a histogram\n",
    "plot_histogram(counts)\n",
    "\n",
    "# END\n"
   ]
  },
  {
   "cell_type": "code",
   "execution_count": null,
   "id": "0b02304e",
   "metadata": {},
   "outputs": [],
   "source": []
  }
 ],
 "metadata": {
  "kernelspec": {
   "display_name": "Python 3",
   "language": "python",
   "name": "python3"
  },
  "language_info": {
   "codemirror_mode": {
    "name": "ipython",
    "version": 3
   },
   "file_extension": ".py",
   "mimetype": "text/x-python",
   "name": "python",
   "nbconvert_exporter": "python",
   "pygments_lexer": "ipython3",
   "version": "3.8.8"
  }
 },
 "nbformat": 4,
 "nbformat_minor": 5
}
